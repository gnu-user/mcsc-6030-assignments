{
 "cells": [
  {
   "cell_type": "markdown",
   "metadata": {},
   "source": [
    "# Timings of midpoint quadrature"
   ]
  },
  {
   "cell_type": "markdown",
   "metadata": {},
   "source": [
    "## Jonathan Gillett"
   ]
  },
  {
   "cell_type": "code",
   "execution_count": 6,
   "metadata": {
    "collapsed": true
   },
   "outputs": [],
   "source": [
    "def midpt_for(f, interval, N_pts):\n",
    "    a, b = interval\n",
    "    h = (b - a) / float(N_pts)\n",
    "    est = 0.0\n",
    "    for k in range(1, N_pts+1):\n",
    "        x_k = a + (k-0.5)*h\n",
    "        est += f(x_k)\n",
    "    return h * est"
   ]
  },
  {
   "cell_type": "code",
   "execution_count": 7,
   "metadata": {
    "collapsed": true
   },
   "outputs": [],
   "source": [
    "def midpt_np(f, interval, N_pts):\n",
    "    a, b = interval\n",
    "    h = (b - a) / float(N_pts)\n",
    "    # Numpy array of all x_k values\n",
    "    x_k = np.arange(1, N_pts+1)\n",
    "    # Apply universal functions to numpy array\n",
    "    x_k = a + (x_k-0.5)*h\n",
    "    x_k = f(x_k)\n",
    "    return h * np.sum(x_k)"
   ]
  }
 ],
 "metadata": {
  "kernelspec": {
   "display_name": "Python 2",
   "name": "python2"
  },
  "language_info": {
   "codemirror_mode": {
    "name": "ipython",
    "version": 2
   },
   "file_extension": ".py",
   "mimetype": "text/x-python",
   "name": "python",
   "nbconvert_exporter": "python",
   "pygments_lexer": "ipython2",
   "version": "2.7.5"
  }
 },
 "nbformat": 4,
 "nbformat_minor": 0
}
