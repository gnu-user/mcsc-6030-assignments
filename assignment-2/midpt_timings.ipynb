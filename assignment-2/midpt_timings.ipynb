{
 "cells": [
  {
   "cell_type": "markdown",
   "metadata": {},
   "source": [
    "# Timings of midpoint quadrature"
   ]
  },
  {
   "cell_type": "markdown",
   "metadata": {},
   "source": [
    "## Jonathan Gillett"
   ]
  },
  {
   "cell_type": "code",
   "execution_count": 6,
   "metadata": {
    "collapsed": true
   },
   "outputs": [],
   "source": [
    "def midpt_for(f, interval, N_pts):\n",
    "    a, b = interval\n",
    "    h = (b - a) / float(N_pts)\n",
    "    est = 0.0\n",
    "    for k in range(1, N_pts+1):\n",
    "        x_k = a + (k-0.5)*h\n",
    "        est += f(x_k)\n",
    "    return h * est"
   ]
  },
  {
   "cell_type": "code",
   "execution_count": 7,
   "metadata": {
    "collapsed": true
   },
   "outputs": [],
   "source": [
    "def midpt_np(f, interval, N_pts):\n",
    "    a, b = interval\n",
    "    h = (b - a) / float(N_pts)\n",
    "    # Numpy array of all x_k values\n",
    "    x_k = np.arange(1, N_pts+1)\n",
    "    # Apply universal functions to numpy array\n",
    "    x_k = a + (x_k-0.5)*h\n",
    "    x_k = f(x_k)\n",
    "    return h * np.sum(x_k)"
   ]
  },
  {
   "cell_type": "code",
   "execution_count": 12,
   "metadata": {
    "collapsed": false
   },
   "outputs": [
    {
     "name": "stdout",
     "output_type": "stream",
     "text": [
      "Midpoint evaluation of f(x)=4/(1+x**2) using N_pts = 100\n",
      "Using a for loop...\n",
      "10000 loops, best of 3: 63.3 µs per loop\n",
      "Using a numpy ndarray...\n",
      "10000 loops, best of 3: 33.5 µs per loop\n"
     ]
    }
   ],
   "source": [
    "import numpy as np\n",
    "\n",
    "# Evaluate the performance of the midpoint quadrature technique\n",
    "# using a for loop vs. a numpy ndarray with universal functions\n",
    "print \"Midpoint evaluation of f(x)=4/(1+x**2) using N_pts = 100\"\n",
    "print \"Using a for loop...\"\n",
    "%timeit midpt_for(lambda x: 4/(1 + x**2), (0, 1), 100)\n",
    "print \"Using a numpy ndarray...\"\n",
    "%timeit midpt_np(lambda x: 4/(1 + x**2), (0, 1), 100)"
   ]
  },
  {
   "cell_type": "code",
   "execution_count": 14,
   "metadata": {
    "collapsed": false
   },
   "outputs": [
    {
     "name": "stdout",
     "output_type": "stream",
     "text": [
      "Midpoint evaluation of f(x)=4/(1+x**2) using N_pts = 100,000\n",
      "Using a for loop...\n",
      "100 loops, best of 3: 6.32 ms per loop\n",
      "Using a numpy ndarray...\n",
      "10000 loops, best of 3: 136 µs per loop\n"
     ]
    }
   ],
   "source": [
    "print \"Midpoint evaluation of f(x)=4/(1+x**2) using N_pts = 10,000\"\n",
    "print \"Using a for loop...\"\n",
    "%timeit midpt_for(lambda x: 4/(1 + x**2), (0, 1), 10000)\n",
    "print \"Using a numpy ndarray...\"\n",
    "%timeit midpt_np(lambda x: 4/(1 + x**2), (0, 1), 10000)"
   ]
  },
  {
   "cell_type": "code",
   "execution_count": 16,
   "metadata": {
    "collapsed": false
   },
   "outputs": [
    {
     "name": "stdout",
     "output_type": "stream",
     "text": [
      "Midpoint evaluation of f(x)=4/(1+x**2) using N_pts = 100,000\n",
      "Using a for loop...\n",
      "10 loops, best of 3: 63.1 ms per loop\n",
      "Using a numpy ndarray...\n",
      "1000 loops, best of 3: 1 ms per loop\n"
     ]
    }
   ],
   "source": [
    "print \"Midpoint evaluation of f(x)=4/(1+x**2) using N_pts = 100,000\"\n",
    "print \"Using a for loop...\"\n",
    "%timeit midpt_for(lambda x: 4/(1 + x**2), (0, 1), 100000)\n",
    "print \"Using a numpy ndarray...\"\n",
    "%timeit midpt_np(lambda x: 4/(1 + x**2), (0, 1), 100000)"
   ]
  },
  {
   "cell_type": "markdown",
   "metadata": {},
   "source": [
    "## Observations\n",
    "\n",
    "It is interesting to note that the performance improvement of the implementation using ndarray in comparison to a naiive approach using a for loop is significantly faster for each size of N_pts used, with the difference in performance becoming more significant in each of the tests performed with N_pts of 100; 10,000; and 100,000.\n",
    "\n",
    "It's interesting to note that for a small value of N_pts of 100 the difference is negligible, however when a much higher amount of precision is needed in the case of a N_pts being 100,000 the numpy ndarray implementation is approximated 63 times faster than the naiive approach using a for loop.\n",
    "\n",
    "Part of the performance difference is due to the fact that for loops in Python, which allows a list of any type are inherently slow due to memory access whereas in numpy the universal function operation is much faster as it is easy for the underlying libraries in numpy to calculate the exact memory address for each cell and apply the operation to it.\n",
    "\n",
    "The performance improvements of numpy are significant due to the underlying libraries used (which have been fine-tuned over mnay years) and the homoegeneity of the ndarrays."
   ]
  },
  {
   "cell_type": "code",
   "execution_count": null,
   "metadata": {
    "collapsed": true
   },
   "outputs": [],
   "source": []
  }
 ],
 "metadata": {
  "kernelspec": {
   "display_name": "Python 2",
   "name": "python2"
  },
  "language_info": {
   "codemirror_mode": {
    "name": "ipython",
    "version": 2
   },
   "file_extension": ".py",
   "mimetype": "text/x-python",
   "name": "python",
   "nbconvert_exporter": "python",
   "pygments_lexer": "ipython2",
   "version": "2.7.5"
  }
 },
 "nbformat": 4,
 "nbformat_minor": 0
}
